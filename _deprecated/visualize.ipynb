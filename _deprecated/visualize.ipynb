{
 "cells": [
  {
   "cell_type": "code",
   "execution_count": 1,
   "metadata": {},
   "outputs": [],
   "source": [
    "import pandas as pd\n",
    "import matplotlib.pyplot as plt\n",
    "from helper import get_dataset_with_copy"
   ]
  },
  {
   "cell_type": "markdown",
   "metadata": {},
   "source": [
    "### Pandas configuration\n",
    "Configure pandas display settings to show more data in our notebook outputs\n",
    "This helps us see more rows and columns when examining our dataframes, rather than having them truncated with ellipsis (...) "
   ]
  },
  {
   "cell_type": "code",
   "execution_count": 2,
   "metadata": {},
   "outputs": [],
   "source": [
    "# This will be set to see most of the infomation of any print that i make\n",
    "pd.set_option('display.max_rows', 1000)\n",
    "pd.set_option('display.max_columns', 1000); "
   ]
  },
  {
   "cell_type": "markdown",
   "metadata": {},
   "source": [
    "### File reading and copy variable declaration\n",
    "We create two versions of our dataframe: main and copy\n",
    "The copy preserves our original, untouched data as a backup reference, while the main dataframe will be used for active analysis and transformations.\n",
    "This is particularly useful in Jupyter notebooks where we can always refer back to the original state of our data without reloading the file or having to restart the notebook to run it all again"
   ]
  },
  {
   "cell_type": "code",
   "execution_count": null,
   "metadata": {},
   "outputs": [
    {
     "name": "stderr",
     "output_type": "stream",
     "text": [
      "/Users/ricardofernandes/Code/ML/helper.py:6: DtypeWarning: Columns (5) have mixed types. Specify dtype option on import or set low_memory=False.\n",
      "  dataset_original = pd.read_csv(file_path)\n"
     ]
    }
   ],
   "source": [
    "# Detect the file encoding\n",
    "jaguar_data_original, jaguar_data = get_dataset_with_copy('datasets/jaguar_movement_data.csv')\n",
    "\n",
    "jaguar_info_original, jaguar_info = get_dataset_with_copy('datasets/jaguar_additional_information_2.csv')"
   ]
  },
  {
   "cell_type": "markdown",
   "metadata": {},
   "source": [
    "### Data Visualization"
   ]
  },
  {
   "cell_type": "markdown",
   "metadata": {},
   "source": [
    "#### Initial Data Exploration\n",
    "Display basic information about both datasets including their structure and dimensions"
   ]
  },
  {
   "cell_type": "code",
   "execution_count": 4,
   "metadata": {},
   "outputs": [
    {
     "name": "stdout",
     "output_type": "stream",
     "text": [
      "   Event_ID      timestamp  location.long  location.lat  \\\n",
      "0       1.0  6/15/10 22:43     -58.030128    -23.326947   \n",
      "1       2.0   6/16/10 2:52     -58.030643    -23.328427   \n",
      "2       3.0  6/16/10 22:36     -58.030472    -23.327311   \n",
      "3       4.0  6/17/10 16:42     -58.027983    -23.309952   \n",
      "4       5.0  6/17/10 20:37     -58.027747    -23.310006   \n",
      "\n",
      "  individual.taxon.canonical.name tag.local.identifier  \\\n",
      "0                   Panthera onca             0-333005   \n",
      "1                   Panthera onca             0-333005   \n",
      "2                   Panthera onca             0-333005   \n",
      "3                   Panthera onca             0-333005   \n",
      "4                   Panthera onca             0-333005   \n",
      "\n",
      "   individual.local.identifier (ID)   study.name   country  \n",
      "0                                 1  Humid Chaco  Paraguay  \n",
      "1                                 1  Humid Chaco  Paraguay  \n",
      "2                                 1  Humid Chaco  Paraguay  \n",
      "3                                 1  Humid Chaco  Paraguay  \n",
      "4                                 1  Humid Chaco  Paraguay  \n",
      "(134690, 9)\n",
      "   ID     Sex  Estimated Age  Weight     Collar Type Collar Brand  \\\n",
      "0   1  Female            3.0    60.0  GPS Globalstar    Northstar   \n",
      "1   2  Female            9.0    45.0  GPS Globalstar    Northstar   \n",
      "2   3    Male            6.0   101.0  GPS Globalstar    Northstar   \n",
      "3   4  Female            4.0    68.0  GPS Globalstar    Northstar   \n",
      "4   5  Female            6.0    74.0  GPS Globalstar    Northstar   \n",
      "\n",
      "  Planned Schedule                            Project Leader  \\\n",
      "0              4 h  Roy T. McBride. Jr.. Jeffrey J. Thompson   \n",
      "1              4 h  Roy T. McBride. Jr.. Jeffrey J. Thompson   \n",
      "2              4 h  Roy T. McBride. Jr.. Jeffrey J. Thompson   \n",
      "3              4 h  Roy T. McBride. Jr.. Jeffrey J. Thompson   \n",
      "4              4 h  Roy T. McBride. Jr.. Jeffrey J. Thompson   \n",
      "\n",
      "                                          Contact  \n",
      "0  rocktmcbride@yahoo.com. jthompson.py@gmail.com  \n",
      "1  rocktmcbride@yahoo.com. jthompson.py@gmail.com  \n",
      "2  rocktmcbride@yahoo.com. jthompson.py@gmail.com  \n",
      "3  rocktmcbride@yahoo.com. jthompson.py@gmail.com  \n",
      "4  rocktmcbride@yahoo.com. jthompson.py@gmail.com  \n",
      "(117, 9)\n"
     ]
    }
   ],
   "source": [
    "print(jaguar_data_original.head())\n",
    "print(jaguar_data_original.shape)\n",
    "print(jaguar_info_original.head())\n",
    "print(jaguar_info_original.shape)"
   ]
  },
  {
   "cell_type": "markdown",
   "metadata": {},
   "source": [
    "Check detailed information about data types and null values in both datasets"
   ]
  },
  {
   "cell_type": "code",
   "execution_count": 5,
   "metadata": {},
   "outputs": [
    {
     "name": "stdout",
     "output_type": "stream",
     "text": [
      "<class 'pandas.core.frame.DataFrame'>\n",
      "RangeIndex: 134690 entries, 0 to 134689\n",
      "Data columns (total 9 columns):\n",
      " #   Column                            Non-Null Count   Dtype  \n",
      "---  ------                            --------------   -----  \n",
      " 0   Event_ID                          134690 non-null  float64\n",
      " 1   timestamp                         134690 non-null  object \n",
      " 2   location.long                     134690 non-null  float64\n",
      " 3   location.lat                      134690 non-null  float64\n",
      " 4   individual.taxon.canonical.name   134690 non-null  object \n",
      " 5   tag.local.identifier              134690 non-null  object \n",
      " 6   individual.local.identifier (ID)  134690 non-null  int64  \n",
      " 7   study.name                        134690 non-null  object \n",
      " 8   country                           134690 non-null  object \n",
      "dtypes: float64(3), int64(1), object(5)\n",
      "memory usage: 9.2+ MB\n",
      "None\n",
      "<class 'pandas.core.frame.DataFrame'>\n",
      "RangeIndex: 117 entries, 0 to 116\n",
      "Data columns (total 9 columns):\n",
      " #   Column            Non-Null Count  Dtype  \n",
      "---  ------            --------------  -----  \n",
      " 0   ID                117 non-null    int64  \n",
      " 1   Sex               117 non-null    object \n",
      " 2   Estimated Age     115 non-null    float64\n",
      " 3   Weight            108 non-null    float64\n",
      " 4   Collar Type       117 non-null    object \n",
      " 5   Collar Brand      117 non-null    object \n",
      " 6   Planned Schedule  117 non-null    object \n",
      " 7   Project Leader    117 non-null    object \n",
      " 8   Contact           117 non-null    object \n",
      "dtypes: float64(2), int64(1), object(6)\n",
      "memory usage: 8.4+ KB\n",
      "None\n"
     ]
    }
   ],
   "source": [
    "print(jaguar_data_original.info())\n",
    "print(jaguar_info_original.info())"
   ]
  },
  {
   "cell_type": "markdown",
   "metadata": {},
   "source": [
    "#### Gender Analysis\n",
    "Analyze and visualize gender distribution"
   ]
  },
  {
   "cell_type": "code",
   "execution_count": 6,
   "metadata": {},
   "outputs": [
    {
     "name": "stdout",
     "output_type": "stream",
     "text": [
      "['Female' 'Male']\n"
     ]
    }
   ],
   "source": [
    "print(jaguar_info_original['Sex'].unique())\n",
    "gender = jaguar_info_original['Sex'].value_counts()"
   ]
  },
  {
   "cell_type": "markdown",
   "metadata": {},
   "source": [
    "Create bar plot for gender distribution"
   ]
  },
  {
   "cell_type": "code",
   "execution_count": 7,
   "metadata": {},
   "outputs": [
    {
     "data": {
      "image/png": "[encoded data removed]",
      "text/plain": [
       "<Figure size 720x720 with 1 Axes>"
      ]
     },
     "metadata": {
      "needs_background": "light"
     },
     "output_type": "display_data"
    }
   ],
   "source": [
    "gender.plot(kind='bar',figsize=(10,10))\n",
    "plt.title('Number of birds detected')\n",
    "plt.xlabel('Sex')\n",
    "plt.ylabel('Number')\n",
    "plt.show()"
   ]
  },
  {
   "cell_type": "markdown",
   "metadata": {},
   "source": [
    "#### Data Quality Check\n",
    "Check for missing values in both datasets"
   ]
  },
  {
   "cell_type": "code",
   "execution_count": 8,
   "metadata": {},
   "outputs": [
    {
     "name": "stdout",
     "output_type": "stream",
     "text": [
      "Event_ID                            0\n",
      "timestamp                           0\n",
      "location.long                       0\n",
      "location.lat                        0\n",
      "individual.taxon.canonical.name     0\n",
      "tag.local.identifier                0\n",
      "individual.local.identifier (ID)    0\n",
      "study.name                          0\n",
      "country                             0\n",
      "dtype: int64\n",
      "---------\n",
      "ID                  0\n",
      "Sex                 0\n",
      "Estimated Age       2\n",
      "Weight              9\n",
      "Collar Type         0\n",
      "Collar Brand        0\n",
      "Planned Schedule    0\n",
      "Project Leader      0\n",
      "Contact             0\n",
      "dtype: int64\n"
     ]
    }
   ],
   "source": [
    "print(jaguar_data_original.isnull().sum())\n",
    "print(\"---------\")\n",
    "print(jaguar_info_original.isnull().sum())"
   ]
  },
  {
   "cell_type": "markdown",
   "metadata": {},
   "source": [
    "Check unique values in both datasets"
   ]
  },
  {
   "cell_type": "code",
   "execution_count": 9,
   "metadata": {},
   "outputs": [
    {
     "name": "stdout",
     "output_type": "stream",
     "text": [
      "Event_ID                            134690\n",
      "timestamp                            88147\n",
      "location.long                       122012\n",
      "location.lat                        124414\n",
      "individual.taxon.canonical.name          1\n",
      "tag.local.identifier                   113\n",
      "individual.local.identifier (ID)       117\n",
      "study.name                              20\n",
      "country                                  5\n",
      "dtype: int64\n",
      "---------\n",
      "ID                  117\n",
      "Sex                   2\n",
      "Estimated Age        15\n",
      "Weight               63\n",
      "Collar Type           6\n",
      "Collar Brand          7\n",
      "Planned Schedule     13\n",
      "Project Leader       18\n",
      "Contact              18\n",
      "dtype: int64\n"
     ]
    }
   ],
   "source": [
    "print(jaguar_data_original.nunique())\n",
    "print(\"---------\")\n",
    "print(jaguar_info_original.nunique())"
   ]
  }
 ],
 "metadata": {
  "kernelspec": {
   "display_name": "Python 3",
   "language": "python",
   "name": "python3"
  },
  "language_info": {
   "name": "python",
   "version": "3.11.11"
  }
 },
 "nbformat": 4,
 "nbformat_minor": 2
}
