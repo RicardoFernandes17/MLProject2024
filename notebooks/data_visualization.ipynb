{
 "cells": [
  {
   "cell_type": "code",
   "execution_count": null,
   "metadata": {},
   "outputs": [],
   "source": [
    "import sys\n",
    "import os\n",
    "import numpy as np\n",
    "from pathlib import Path\n",
    "notebook_path = os.getcwd()  # Gets current working directory\n",
    "project_root = os.path.abspath(os.path.join(notebook_path, '..'))\n",
    "sys.path.insert(0, project_root)\n",
    "\n",
    "data_dir = os.path.join(project_root, 'data')\n",
    "raw_dir = os.path.join(data_dir, 'raw')\n",
    "Path(raw_dir).mkdir(parents=True, exist_ok=True)"
   ]
  },
  {
   "cell_type": "code",
   "execution_count": null,
   "metadata": {},
   "outputs": [],
   "source": [
    "import pandas as pd\n",
    "import matplotlib.pyplot as plt\n",
    "import seaborn as sns\n",
    "\n",
    "import cartopy.crs as ccrs\n",
    "import cartopy.feature as cfeature\n",
    "from helper import get_dataset_with_copy"
   ]
  },
  {
   "cell_type": "markdown",
   "metadata": {},
   "source": [
    "### File reading and copy variable declaration\n",
    "We create two versions of our dataframe: main and copy\n",
    "The copy preserves our original, untouched data as a backup reference, while the main dataframe will be used for active analysis and transformations.\n",
    "This is particularly useful in Jupyter notebooks where we can always refer back to the original state of our data without reloading the file or having to restart the notebook to run it all again"
   ]
  },
  {
   "cell_type": "code",
   "execution_count": null,
   "metadata": {},
   "outputs": [],
   "source": [
    "jaguar_data_original, jaguar_data = get_dataset_with_copy(os.path.join(raw_dir, 'jaguar_movement_data.csv'))\n",
    "\n",
    "jaguar_info_original, jaguar_info = get_dataset_with_copy(os.path.join(raw_dir, 'jaguar_additional_information.csv'))"
   ]
  },
  {
   "cell_type": "markdown",
   "metadata": {},
   "source": [
    "#### Initial Data Exploration\n",
    "Display basic information about both datasets including their structure and dimensions"
   ]
  },
  {
   "cell_type": "code",
   "execution_count": null,
   "metadata": {},
   "outputs": [],
   "source": [
    "print(jaguar_data_original.head())\n",
    "print(jaguar_data_original.shape)\n",
    "print(jaguar_info_original.head())\n",
    "print(jaguar_info_original.shape)"
   ]
  },
  {
   "cell_type": "markdown",
   "metadata": {},
   "source": [
    "Check detailed information about data types and null values in both datasets"
   ]
  },
  {
   "cell_type": "code",
   "execution_count": null,
   "metadata": {},
   "outputs": [],
   "source": [
    "print(jaguar_data_original.info())\n",
    "print(jaguar_info_original.info())"
   ]
  },
  {
   "cell_type": "markdown",
   "metadata": {},
   "source": []
  },
  {
   "cell_type": "code",
   "execution_count": null,
   "metadata": {},
   "outputs": [],
   "source": [
    "jaguar_data_original.describe().T"
   ]
  },
  {
   "cell_type": "markdown",
   "metadata": {},
   "source": [
    "#### Data Quality Check\n",
    "Check for missing values in both datasets"
   ]
  },
  {
   "cell_type": "code",
   "execution_count": null,
   "metadata": {},
   "outputs": [],
   "source": [
    "# Creating summary for jaguar_data_original\n",
    "df_summary_data = pd.DataFrame({\n",
    "    \"nulls\": jaguar_data_original.isnull().sum(),\n",
    "    \"uniques\": jaguar_data_original.nunique()\n",
    "})\n",
    "\n",
    "print(df_summary_data)\n",
    "# Creating summary for jaguar_info_original\n",
    "df_summary_info = pd.DataFrame({\n",
    "    \"nulls\": jaguar_info_original.isnull().sum(),\n",
    "    \"uniques\": jaguar_info_original.nunique()\n",
    "})\n",
    "\n",
    "print(df_summary_info)"
   ]
  },
  {
   "cell_type": "markdown",
   "metadata": {},
   "source": [
    "We can already see that:\n",
    "- In the jaguar movement dataset we the column individual.taxon.canonical.name has a unique value so we will then remove from the dataset\n",
    "- The only columns with null values we can find are the columns Estimated Age and Weight in the jaguar info dataset."
   ]
  },
  {
   "cell_type": "code",
   "execution_count": null,
   "metadata": {},
   "outputs": [],
   "source": [
    "jaguar_data = jaguar_data.drop(columns=['individual.taxon.canonical.name'])\n",
    "jaguar_info[\"Estimated Age\"]= jaguar_info[\"Estimated Age\"].fillna(value=0)\n",
    "jaguar_info[\"Weight\"]= jaguar_info[\"Weight\"].fillna(value=0)"
   ]
  },
  {
   "cell_type": "markdown",
   "metadata": {},
   "source": [
    "Lets start by showing an histogram of every numeric column and then making pie charts for every non-numeric column\n",
    "For this we will be ignoring identifiers or timestamps"
   ]
  },
  {
   "cell_type": "code",
   "execution_count": null,
   "metadata": {},
   "outputs": [],
   "source": [
    "# Histogram to check for single value columns to remove\n",
    "jaguar_data.hist(figsize=(20,20))\n",
    "plt.show()\n",
    "\n",
    "# Pie Chart Distrubtion for non numeric cols\n",
    "for col in jaguar_data.select_dtypes(include='object').columns:\n",
    "    if col !='timestamp' and col !='tag.local.identifier':\n",
    "        counts = jaguar_data[col].value_counts()\n",
    "        print(col, counts)\n",
    "        plt.figure(figsize=(8, 6), facecolor='white')\n",
    "        plt.pie(counts, labels=counts.index, autopct='%1.1f%%', startangle=90)\n",
    "        plt.title(f\"{col} Distribution\")  # f-string for string formatting\n",
    "        plt.show()"
   ]
  },
  {
   "cell_type": "code",
   "execution_count": null,
   "metadata": {},
   "outputs": [],
   "source": [
    "jaguar_info_original.describe().T"
   ]
  },
  {
   "cell_type": "code",
   "execution_count": null,
   "metadata": {},
   "outputs": [],
   "source": [
    "# Histogram to check for single value columns to remove\n",
    "jaguar_info.hist(figsize=(20,20))\n",
    "plt.show()\n",
    "\n",
    "# Pie Chart Distrubtion for non numeric cols\n",
    "for col in jaguar_info.select_dtypes(include='object').columns:\n",
    "        counts = jaguar_info[col].value_counts()\n",
    "        plt.figure(figsize=(8, 6), facecolor='white')\n",
    "        plt.pie(counts, labels=counts.index, autopct='%1.1f%%', startangle=90)\n",
    "        plt.title(f\"{col} Distribution\")  # f-string for string formatting\n",
    "        plt.show()"
   ]
  },
  {
   "cell_type": "code",
   "execution_count": null,
   "metadata": {},
   "outputs": [],
   "source": [
    "X = jaguar_data.drop(columns=['timestamp', 'tag.local.identifier'])\n",
    "categorical_cols = X.select_dtypes(include=[object]).columns.tolist()\n",
    "\n",
    "print(categorical_cols)\n",
    "\n",
    "corr = pd.get_dummies(X, columns=categorical_cols, drop_first=True)\n",
    "print(corr)\n",
    "corr = corr.astype(int)\n",
    "print(corr)\n",
    "\n",
    "correlation_matrix = corr.corr()\n",
    "plt.figure(figsize=(30, 20))\n",
    "sns.heatmap(correlation_matrix, annot=True, fmt=\".2f\", cmap='coolwarm', cbar=True, square=True, \n",
    "            cbar_kws={\"shrink\": .75}, linewidths=.5)\n",
    "plt.title('Correlation Matrix of Features', fontsize=16)\n",
    "plt.tight_layout()\n",
    "plt.show()"
   ]
  },
  {
   "cell_type": "markdown",
   "metadata": {},
   "source": [
    "TEMPORAL ANALYSIS"
   ]
  },
  {
   "cell_type": "code",
   "execution_count": null,
   "metadata": {},
   "outputs": [],
   "source": [
    "jaguar_data['timestamp'] = pd.to_datetime(jaguar_data['timestamp'], errors='coerce')\n",
    "\n",
    "# Check if conversion was successful\n",
    "print(jaguar_data['timestamp'].dtype)\n",
    "\n",
    "# Remove any rows with invalid timestamps if needed\n",
    "jaguar_data = jaguar_data.dropna(subset=['timestamp'])\n",
    "\n",
    "# Proceed with time decomposition\n",
    "jaguar_data['year'] = jaguar_data['timestamp'].dt.year\n",
    "jaguar_data['month'] = jaguar_data['timestamp'].dt.month\n",
    "jaguar_data['day'] = jaguar_data['timestamp'].dt.day\n",
    "jaguar_data['hour'] = jaguar_data['timestamp'].dt.hour\n",
    "jaguar_data['day_of_week'] = jaguar_data['timestamp'].dt.dayofweek\n",
    "\n",
    "# Visualization Subplots\n",
    "fig, axes = plt.subplots(2, 3, figsize=(20, 12))\n",
    "fig.suptitle('Temporal Distribution of Jaguar Movements', fontsize=16)\n",
    "\n",
    "# Observations by Year\n",
    "yearly_counts = jaguar_data.groupby('year').size()\n",
    "yearly_counts.plot(kind='bar', ax=axes[0,0], title='Observations per Year')\n",
    "axes[0,0].set_xlabel('Year')\n",
    "axes[0,0].set_ylabel('Number of Observations')\n",
    "\n",
    "# Observations by Month\n",
    "monthly_counts = jaguar_data.groupby('month').size()\n",
    "monthly_counts.plot(kind='bar', ax=axes[0,1], title='Observations per Month')\n",
    "axes[0,1].set_xlabel('Month')\n",
    "axes[0,1].set_ylabel('Number of Observations')\n",
    "\n",
    "# Observations by Day of Week\n",
    "day_of_week_counts = jaguar_data.groupby('day_of_week').size()\n",
    "day_of_week_counts.plot(kind='bar', ax=axes[0,2], title='Observations by Day of Week')\n",
    "axes[0,2].set_xlabel('Day of Week (0=Monday, 6=Sunday)')\n",
    "axes[0,2].set_ylabel('Number of Observations')\n",
    "\n",
    "# Hourly Movement Distribution\n",
    "hourly_counts = jaguar_data.groupby('hour').size()\n",
    "hourly_counts.plot(kind='line', marker='o', ax=axes[1,0], title='Hourly Movement Distribution')\n",
    "axes[1,0].set_xlabel('Hour of Day')\n",
    "axes[1,0].set_ylabel('Number of Observations')\n",
    "\n",
    "# Time between observations for each jaguar\n",
    "def time_between_observations(group):\n",
    "    return group['timestamp'].diff().mean()\n",
    "\n",
    "observation_intervals = jaguar_data.groupby('individual.local.identifier (ID)').apply(time_between_observations)\n",
    "observation_intervals.plot(kind='bar', ax=axes[1,1], title='Average Time Between Observations')\n",
    "axes[1,1].set_xlabel('Jaguar ID')\n",
    "axes[1,1].set_ylabel('Average Time Interval')\n",
    "\n",
    "# Cumulative observations over time\n",
    "cumulative_obs = jaguar_data.groupby('timestamp').size().cumsum()\n",
    "cumulative_obs.plot(ax=axes[1,2], title='Cumulative Observations Over Time')\n",
    "axes[1,2].set_xlabel('Date')\n",
    "axes[1,2].set_ylabel('Cumulative Observations')\n",
    "\n",
    "plt.tight_layout()\n",
    "plt.show()\n",
    "\n",
    "# Additional Temporal Insights\n",
    "print(\"\\nTemporal Analysis Insights:\")\n",
    "print(f\"Total Observation Period: {jaguar_data['timestamp'].min()} to {jaguar_data['timestamp'].max()}\")\n",
    "print(f\"Total Observations: {len(jaguar_data)}\")\n",
    "print(f\"Number of Individual Jaguars: {jaguar_data['individual.local.identifier (ID)'].nunique()}\")\n",
    "    "
   ]
  },
  {
   "cell_type": "markdown",
   "metadata": {},
   "source": [
    "GEOSPACIAL ANALYSIS"
   ]
  },
  {
   "cell_type": "code",
   "execution_count": null,
   "metadata": {},
   "outputs": [],
   "source": [
    "unique_jaguars = sorted(jaguar_data['individual.local.identifier (ID)'].unique())\n",
    "# Print spatial statistics\n",
    "print(\"\\nGeospatial Analysis Insights:\")\n",
    "\n",
    "# Calculate statistics for all jaguars\n",
    "longitude_stats = jaguar_data['location.long'].describe()\n",
    "latitude_stats = jaguar_data['location.lat'].describe()\n",
    "\n",
    "print(\"\\nOverall Longitude Statistics:\")\n",
    "print(longitude_stats)\n",
    "print(\"\\nOverall Latitude Statistics:\")\n",
    "print(latitude_stats)\n",
    "\n",
    "# Create density heatmap\n",
    "plt.figure(figsize=(15, 10))\n",
    "density = plt.hexbin(jaguar_data['location.long'], \n",
    "                    jaguar_data['location.lat'], \n",
    "                    gridsize=30, \n",
    "                    cmap='YlOrRd')\n",
    "plt.colorbar(density, label='Observation Density')\n",
    "plt.title('Jaguar Movement Density Heatmap')\n",
    "plt.xlabel('Longitude')\n",
    "plt.ylabel('Latitude')\n",
    "plt.grid(True, alpha=0.3)\n",
    "plt.tight_layout()\n",
    "plt.show()\n",
    "\n",
    "# Print movement area for each jaguar\n",
    "print(\"\\nIndividual Jaguar Movement Areas:\")\n",
    "for jaguar_id in unique_jaguars:\n",
    "    jaguar_subset = jaguar_data[jaguar_data['individual.local.identifier (ID)'] == jaguar_id]\n",
    "    min_long = jaguar_subset['location.long'].min()\n",
    "    max_long = jaguar_subset['location.long'].max()\n",
    "    min_lat = jaguar_subset['location.lat'].min()\n",
    "    max_lat = jaguar_subset['location.lat'].max()\n",
    "    \n",
    "    print(f\"\\nJaguar {jaguar_id}:\")\n",
    "    print(f\"Longitude Range: {min_long:.4f}° to {max_long:.4f}°\")\n",
    "    print(f\"Latitude Range: {min_lat:.4f}° to {max_lat:.4f}°\")"
   ]
  },
  {
   "cell_type": "markdown",
   "metadata": {},
   "source": [
    "Check for number of unique date latitude longitude groups"
   ]
  },
  {
   "cell_type": "code",
   "execution_count": null,
   "metadata": {},
   "outputs": [],
   "source": [
    "group_copy = jaguar_data_original.copy()\n",
    "group_copy['timestamp'] = pd.to_datetime(group_copy['timestamp'])\n",
    "    \n",
    "# Convert timestamp to date only (removing time component)\n",
    "group_copy['date'] = group_copy['timestamp'].dt.date\n",
    "\n",
    "# Create location groups\n",
    "location_groups = group_copy.groupby(['date', 'location.lat', 'location.long']).size().reset_index(name='count')\n",
    "\n",
    "# Calculate summary statistics\n",
    "stats = {\n",
    "    'total_observations': len(group_copy),\n",
    "    'unique_locations': len(location_groups),\n",
    "    'unique_dates': group_copy['date'].nunique(),\n",
    "    'avg_locations_per_day': len(location_groups) / group_copy['date'].nunique(),\n",
    "    'locations_by_date': location_groups.groupby('date').size().describe()\n",
    "}\n",
    "\n",
    "# Print results\n",
    "print(\"\\nLocation Analysis Summary:\")\n",
    "print(f\"Total observations: {stats['total_observations']:,}\")\n",
    "print(f\"Unique date-location combinations: {stats['unique_locations']:,}\")\n",
    "print(f\"Number of unique dates: {stats['unique_dates']:,}\")\n",
    "print(f\"Average unique locations per day: {stats['avg_locations_per_day']:.2f}\")\n",
    "print(\"\\nDaily unique locations statistics:\")\n",
    "print(stats['locations_by_date'])"
   ]
  },
  {
   "cell_type": "code",
   "execution_count": null,
   "metadata": {},
   "outputs": [],
   "source": []
  },
  {
   "cell_type": "markdown",
   "metadata": {},
   "source": []
  }
 ],
 "metadata": {
  "kernelspec": {
   "display_name": "Python 3",
   "language": "python",
   "name": "python3"
  },
  "language_info": {
   "codemirror_mode": {
    "name": "ipython",
    "version": 3
   },
   "file_extension": ".py",
   "mimetype": "text/x-python",
   "name": "python",
   "nbconvert_exporter": "python",
   "pygments_lexer": "ipython3",
   "version": "3.11.11"
  }
 },
 "nbformat": 4,
 "nbformat_minor": 2
}
