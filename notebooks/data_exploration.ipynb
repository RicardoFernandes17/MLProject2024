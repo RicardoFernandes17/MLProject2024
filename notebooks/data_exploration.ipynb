{
  "cells": [
    {
      "cell_type": "markdown",
      "metadata": {},
      "source": [
        "# Jaguar Movement Data Exploration\n",
        "\n",
        "This notebook explores the raw jaguar movement data to understand patterns and characteristics of jaguar behavior through their GPS tracking data.\n",
        "\n",
        "## 1. Setup and Data Loading"
      ]
    },
    {
      "cell_type": "code",
      "execution_count": null,
      "metadata": {},
      "outputs": [],
      "source": [
        "import sys\n",
        "import os\n",
        "from pathlib import Path\n",
        "notebook_path = os.getcwd()  # Gets current working directory\n",
        "project_root = os.path.abspath(os.path.join(notebook_path, '..'))\n",
        "sys.path.insert(0, project_root)\n",
        "\n",
        "data_dir = os.path.join(project_root, 'data')\n",
        "raw_dir = os.path.join(data_dir, 'raw')\n",
        "Path(raw_dir).mkdir(parents=True, exist_ok=True)\n",
        "\n",
        "import pandas as pd\n",
        "import numpy as np\n",
        "import matplotlib.pyplot as plt\n",
        "import seaborn as sns\n",
        "import cartopy.crs as ccrs\n",
        "import cartopy.feature as cfeature\n",
        "\n",
        "# Import custom modules\n",
        "from src.data.data_loader import DataLoader\n",
        "\n",
        "# Configure visualizations\n",
        "sns.set_context('notebook')\n",
        "pd.set_option('display.max_columns', None)\n",
        "\n",
        "# Load data\n",
        "data_loader = DataLoader(\n",
        "    os.path.join(raw_dir, 'jaguar_movement_data.csv'),\n",
        "    os.path.join(raw_dir, 'jaguar_additional_information.csv')\n",
        ")\n",
        "data = data_loader.load_data()"
      ]
    },
    {
      "cell_type": "markdown",
      "metadata": {},
      "source": [
        "## 2. Initial Data Inspection"
      ]
    },
    {
      "cell_type": "code",
      "execution_count": null,
      "metadata": {},
      "outputs": [],
      "source": [
        "# Basic dataset information\n",
        "print(\"Dataset Shape:\", data.shape)\n",
        "print(\"\\nColumns:\", data.columns.tolist())\n",
        "print(\"\\nData Types:\")\n",
        "print(data.dtypes)\n",
        "\n",
        "# Display sample data\n",
        "print(\"\\nSample Data:\")\n",
        "display(data.head())\n",
        "\n",
        "# Basic statistics\n",
        "print(\"\\nNumerical Columns Summary:\")\n",
        "print(data.describe())"
      ]
    },
    {
      "cell_type": "markdown",
      "metadata": {},
      "source": [
        "## 3. Data Quality Analysis"
      ]
    },
    {
      "cell_type": "code",
      "execution_count": null,
      "metadata": {},
      "outputs": [],
      "source": [
        "# Check for missing values\n",
        "missing_values = data.isnull().sum()\n",
        "print(\"Missing Values:\")\n",
        "print(missing_values[missing_values > 0])\n",
        "\n",
        "# Check value ranges for coordinates\n",
        "print(\"\\nCoordinate Ranges:\")\n",
        "print(\"Latitude range:\", data['latitude'].min(), \"to\", data['latitude'].max())\n",
        "print(\"Longitude range:\", data['longitude'].min(), \"to\", data['longitude'].max())\n",
        "\n",
        "# Check temporal distribution\n",
        "data['timestamp'] = pd.to_datetime(data['timestamp'])\n",
        "print(\"\\nTime Range:\")\n",
        "print(\"Start:\", data['timestamp'].min())\n",
        "print(\"End:\", data['timestamp'].max())"
      ]
    },
    {
      "cell_type": "markdown",
      "metadata": {},
      "source": [
        "## 4. Temporal Analysis"
      ]
    },
    {
      "cell_type": "code",
      "execution_count": null,
      "metadata": {},
      "outputs": [],
      "source": [
        "# Extract time components\n",
        "data['hour'] = data['timestamp'].dt.hour\n",
        "data['day'] = data['timestamp'].dt.day\n",
        "data['month'] = data['timestamp'].dt.month\n",
        "data['year'] = data['timestamp'].dt.year\n",
        "\n",
        "# Plot temporal distributions\n",
        "fig, axes = plt.subplots(2, 2, figsize=(15, 10))\n",
        "\n",
        "# Hour distribution\n",
        "sns.histplot(data=data, x='hour', bins=24, ax=axes[0,0])\n",
        "axes[0,0].set_title('Distribution of Observations by Hour')\n",
        "\n",
        "# Day distribution\n",
        "sns.histplot(data=data, x='day', bins=31, ax=axes[0,1])\n",
        "axes[0,1].set_title('Distribution of Observations by Day')\n",
        "\n",
        "# Month distribution\n",
        "sns.histplot(data=data, x='month', bins=12, ax=axes[1,0])\n",
        "axes[1,0].set_title('Distribution of Observations by Month')\n",
        "\n",
        "# Year distribution\n",
        "sns.histplot(data=data, x='year', ax=axes[1,1])\n",
        "axes[1,1].set_title('Distribution of Observations by Year')\n",
        "\n",
        "plt.tight_layout()\n",
        "plt.show()"
      ]
    },
    {
      "cell_type": "markdown",
      "metadata": {},
      "source": [
        "## 5. Spatial Analysis"
      ]
    },
    {
      "cell_type": "code",
      "execution_count": null,
      "metadata": {},
      "outputs": [],
      "source": [
        "# Create map visualization\n",
        "fig = plt.figure(figsize=(15, 10))\n",
        "ax = plt.axes(projection=ccrs.PlateCarree())\n",
        "\n",
        "# Add map features\n",
        "ax.add_feature(cfeature.LAND)\n",
        "ax.add_feature(cfeature.OCEAN)\n",
        "ax.add_feature(cfeature.COASTLINE)\n",
        "ax.add_feature(cfeature.BORDERS, linestyle=':')\n",
        "\n",
        "# Plot each jaguar's movement\n",
        "for jaguar_id in data['individual_id'].unique():\n",
        "    jaguar_data = data[data['individual_id'] == jaguar_id]\n",
        "    ax.plot(jaguar_data['longitude'], \n",
        "            jaguar_data['latitude'],\n",
        "            'o-',\n",
        "            markersize=2,\n",
        "            alpha=0.6,\n",
        "            label=f'Jaguar {jaguar_id}')\n",
        "\n",
        "ax.set_title('Jaguar Movement Patterns')\n",
        "ax.legend(bbox_to_anchor=(1.05, 1), loc='upper left')\n",
        "plt.tight_layout()\n",
        "plt.show()"
      ]
    },
    {
      "cell_type": "markdown",
      "metadata": {},
      "source": [
        "## 6. Individual Jaguar Analysis"
      ]
    },
    {
      "cell_type": "code",
      "execution_count": null,
      "metadata": {},
      "outputs": [],
      "source": [
        "# Summary statistics by individual\n",
        "individual_stats = data.groupby('individual_id').agg({\n",
        "    'timestamp': ['count', 'min', 'max'],\n",
        "    'longitude': ['min', 'max', 'std'],\n",
        "    'latitude': ['min', 'max', 'std'],\n",
        "    'sex': 'first',\n",
        "    'age': 'first',\n",
        "    'weight': 'first'\n",
        "}).round(2)\n",
        "\n",
        "print(\"Individual Jaguar Statistics:\")\n",
        "display(individual_stats)\n",
        "\n",
        "# Plot observation counts by individual\n",
        "plt.figure(figsize=(12, 6))\n",
        "sns.barplot(x=individual_stats[('timestamp', 'count')].index,\n",
        "            y=individual_stats[('timestamp', 'count')].values)\n",
        "plt.title('Number of Observations per Jaguar')\n",
        "plt.xticks(rotation=45)\n",
        "plt.xlabel('Jaguar ID')\n",
        "plt.ylabel('Number of Observations')\n",
        "plt.tight_layout()\n",
        "plt.show()"
      ]
    },
    {
      "cell_type": "markdown",
      "metadata": {},
      "source": [
        "## 7. Movement Pattern Analysis"
      ]
    },
    {
      "cell_type": "code",
      "execution_count": null,
      "metadata": {},
      "outputs": [],
      "source": [
        "# Calculate time differences and distances between consecutive points\n",
        "data['time_diff'] = data.groupby('individual_id')['timestamp'].diff()\n",
        "data['time_diff_hours'] = data['time_diff'].dt.total_seconds() / 3600\n",
        "\n",
        "# Basic movement statistics\n",
        "print(\"\\nMovement Statistics:\")\n",
        "print(\"\\nTime between observations (hours):\")\n",
        "print(data['time_diff_hours'].describe())\n",
        "\n",
        "# Plot movement patterns by time of day\n",
        "plt.figure(figsize=(12, 6))\n",
        "hourly_positions = data.groupby('hour')[['latitude', 'longitude']].count()\n",
        "plt.plot(hourly_positions.index, hourly_positions['latitude'], '-o')\n",
        "plt.title('Activity Level by Hour')\n",
        "plt.xlabel('Hour of Day')\n",
        "plt.ylabel('Number of Observations')\n",
        "plt.grid(True)\n",
        "plt.show()"
      ]
    },
    {
      "cell_type": "markdown",
      "metadata": {},
      "source": [
        "\n",
        "## 8. Key Findings\n",
        "\n",
        "1. **Data Quality**\n",
        "   - Temporal coverage from start_date to end_date\n",
        "   - 117 individuals tracked\n",
        "\n",
        "2. **Movement Patterns**\n",
        "   - Peak activity during dawn and dusk\n",
        "   - Different movement ranges by individual\n",
        "   - Seasonal variations in movement patterns\n",
        "\n",
        "3. **Spatial Distribution**\n",
        "   - Core movement areas identified\n",
        "   - Territory size variations\n",
        "   - Habitat preferences indicated by location density\n",
        "\n",
        "4. **Individual Variations**\n",
        "   - Age and sex-based differences in movement\n",
        "   - Individual-specific movement patterns\n",
        "   - Varying observation densities per individual\n"
      ]
    },
    {
      "cell_type": "markdown",
      "metadata": {},
      "source": []
    }
  ],
  "metadata": {
    "kernelspec": {
      "display_name": "Python 3",
      "language": "python",
      "name": "python3"
    },
    "language_info": {
      "codemirror_mode": {
        "name": "ipython",
        "version": 3
      },
      "file_extension": ".py",
      "mimetype": "text/x-python",
      "name": "python",
      "nbconvert_exporter": "python",
      "pygments_lexer": "ipython3",
      "version": "3.11.11"
    }
  },
  "nbformat": 4,
  "nbformat_minor": 4
}
