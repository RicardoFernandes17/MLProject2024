{
  "cells": [
    {
      "cell_type": "markdown",
      "metadata": {},
      "source": [
        "# Jaguar Movement Data Exploration\n",
        "\n",
        "This notebook explores the raw jaguar movement data to understand patterns and characteristics of jaguar movements.\n",
        "\n",
        "## Contents:\n",
        "1. Data Loading and Initial Inspection\n",
        "2. Data Quality Analysis\n",
        "3. Basic Statistics\n",
        "4. Movement Pattern Analysis\n",
        "5. Individual Jaguar Analysis"
      ]
    },
    {
      "cell_type": "code",
      "execution_count": null,
      "metadata": {},
      "outputs": [],
      "source": [
        "import pandas as pd\n",
        "import numpy as np\n",
        "import matplotlib.pyplot as plt\n",
        "import seaborn as sns\n",
        "import cartopy.crs as ccrs\n",
        "import cartopy.feature as cfeature\n",
        "from pathlib import Path\n",
        "from src.data.data_loader import DataLoader\n",
        "\n",
        "# Configure visualizations\n",
        "plt.style.use('seaborn')\n",
        "sns.set_context('notebook')\n",
        "pd.set_option('display.max_columns', None)"
      ]
    },
    {
      "cell_type": "markdown",
      "metadata": {},
      "source": [
        "## 1. Data Loading and Initial Inspection"
      ]
    },
    {
      "cell_type": "code",
      "execution_count": null,
      "metadata": {},
      "outputs": [],
      "source": [
        "# Load data\n",
        "data_loader = DataLoader(\n",
        "    'data/raw/jaguar_movement_data.csv',\n",
        "    'data/raw/jaguar_additional_information_2.csv'\n",
        ")\n",
        "data = data_loader.load_data()\n",
        "\n",
        "print(\"Dataset Shape:\", data.shape)\n",
        "print(\"\\nColumns:\", data.columns.tolist())\n",
        "print(\"\\nData Types:\\n\")\n",
        "print(data.dtypes)\n",
        "print(\"\\nSample Data:\")\n",
        "display(data.head())"
      ]
    },
    {
      "cell_type": "markdown",
      "metadata": {},
      "source": [
        "## 2. Data Quality Analysis"
      ]
    },
    {
      "cell_type": "code",
      "execution_count": null,
      "metadata": {},
      "outputs": [],
      "source": [
        "# Check for missing values\n",
        "missing_values = data.isnull().sum()\n",
        "print(\"Missing Values:\")\n",
        "print(missing_values[missing_values > 0])\n",
        "\n",
        "# Check value ranges\n",
        "print(\"\\nNumerical Columns Summary:\")\n",
        "print(data.describe())\n",
        "\n",
        "# Check categorical columns\n",
        "print(\"\\nCategorical Columns Summary:\")\n",
        "categorical_cols = data.select_dtypes(include=['object']).columns\n",
        "for col in categorical_cols:\n",
        "    print(f\"\\n{col} value counts:\")\n",
        "    print(data[col].value_counts())"
      ]
    },
    {
      "cell_type": "markdown",
      "metadata": {},
      "source": [
        "## 3. Temporal Analysis"
      ]
    },
    {
      "cell_type": "code",
      "execution_count": null,
      "metadata": {},
      "outputs": [],
      "source": [
        "# Convert timestamp to datetime if not already\n",
        "data['timestamp'] = pd.to_datetime(data['timestamp'])\n",
        "\n",
        "# Extract time components\n",
        "data['hour'] = data['timestamp'].dt.hour\n",
        "data['day'] = data['timestamp'].dt.day\n",
        "data['month'] = data['timestamp'].dt.month\n",
        "data['year'] = data['timestamp'].dt.year\n",
        "\n",
        "# Plot temporal distributions\n",
        "fig, axes = plt.subplots(2, 2, figsize=(15, 10))\n",
        "\n",
        "# Hour distribution\n",
        "sns.histplot(data=data, x='hour', bins=24, ax=axes[0,0])\n",
        "axes[0,0].set_title('Distribution of Observations by Hour')\n",
        "\n",
        "# Day distribution\n",
        "sns.histplot(data=data, x='day', bins=31, ax=axes[0,1])\n",
        "axes[0,1].set_title('Distribution of Observations by Day')\n",
        "\n",
        "# Month distribution\n",
        "sns.histplot(data=data, x='month', bins=12, ax=axes[1,0])\n",
        "axes[1,0].set_title('Distribution of Observations by Month')\n",
        "\n",
        "# Year distribution\n",
        "sns.histplot(data=data, x='year', ax=axes[1,1])\n",
        "axes[1,1].set_title('Distribution of Observations by Year')\n",
        "\n",
        "plt.tight_layout()\n",
        "plt.show()"
      ]
    },
    {
      "cell_type": "markdown",
      "metadata": {},
      "source": [
        "## 4. Spatial Analysis"
      ]
    },
    {
      "cell_type": "code",
      "execution_count": null,
      "metadata": {},
      "outputs": [],
      "source": [
        "# Create map visualization\n",
        "fig = plt.figure(figsize=(15, 10))\n",
        "ax = plt.axes(projection=ccrs.PlateCarree())\n",
        "\n",
        "# Add map features\n",
        "ax.add_feature(cfeature.LAND)\n",
        "ax.add_feature(cfeature.OCEAN)\n",
        "ax.add_feature(cfeature.COASTLINE)\n",
        "ax.add_feature(cfeature.BORDERS, linestyle=':')\n",
        "\n",
        "# Plot each jaguar's movement\n",
        "for jaguar_id in data['individual_id'].unique():\n",
        "    jaguar_data = data[data['individual_id'] == jaguar_id]\n",
        "    ax.plot(jaguar_data['longitude'], \n",
        "            jaguar_data['latitude'],\n",
        "            'o-',\n",
        "            markersize=2,\n",
        "            alpha=0.6,\n",
        "            label=f'Jaguar {jaguar_id}')\n",
        "\n",
        "ax.set_title('Jaguar Movement Patterns')\n",
        "ax.legend(bbox_to_anchor=(1.05, 1), loc='upper left')\n",
        "plt.tight_layout()\n",
        "plt.show()"
      ]
    },
    {
      "cell_type": "markdown",
      "metadata": {},
      "source": [
        "## 5. Individual Jaguar Analysis"
      ]
    },
    {
      "cell_type": "code",
      "execution_count": null,
      "metadata": {},
      "outputs": [],
      "source": [
        "# Summary statistics by individual\n",
        "individual_stats = data.groupby('individual_id').agg({\n",
        "    'timestamp': ['count', 'min', 'max'],\n",
        "    'longitude': ['min', 'max', 'std'],\n",
        "    'latitude': ['min', 'max', 'std'],\n",
        "    'sex': 'first',\n",
        "    'age': 'first',\n",
        "    'weight': 'first'\n",
        "}).round(2)\n",
        "\n",
        "print(\"Individual Jaguar Statistics:\")\n",
        "display(individual_stats)\n",
        "\n",
        "# Plot observation counts by individual\n",
        "plt.figure(figsize=(12, 6))\n",
        "sns.barplot(x=individual_stats[('timestamp', 'count')].index,\n",
        "            y=individual_stats[('timestamp', 'count')].values)\n",
        "plt.title('Number of Observations per Jaguar')\n",
        "plt.xticks(rotation=45)\n",
        "plt.xlabel('Jaguar ID')\n",
        "plt.ylabel('Number of Observations')\n",
        "plt.tight_layout()\n",
        "plt.show()"
      ]
    }
  ]
}
