{
  "cells": [
    {
      "cell_type": "markdown",
      "metadata": {},
      "source": [
        "# Feature Analysis & Engineering\n",
        "\n",
        "This notebook analyzes the features created for the jaguar movement analysis project. We'll explore:\n",
        "1. Basic feature distributions and statistics\n",
        "2. Movement patterns and temporal analysis\n",
        "3. Feature correlations and relationships\n",
        "4. Feature importance for behavior classification\n",
        "5. Spatial movement patterns"
      ]
    },
    {
      "cell_type": "code",
      "execution_count": null,
      "metadata": {},
      "outputs": [
        {
          "ename": "ModuleNotFoundError",
          "evalue": "No module named 'src'",
          "output_type": "error",
          "traceback": [
            "\u001b[0;31m---------------------------------------------------------------------------\u001b[0m",
            "\u001b[0;31mModuleNotFoundError\u001b[0m                       Traceback (most recent call last)",
            "Cell \u001b[0;32mIn[1], line 10\u001b[0m\n\u001b[1;32m      7\u001b[0m \u001b[38;5;28;01mimport\u001b[39;00m \u001b[38;5;21;01mcartopy\u001b[39;00m\u001b[38;5;21;01m.\u001b[39;00m\u001b[38;5;21;01mfeature\u001b[39;00m \u001b[38;5;28;01mas\u001b[39;00m \u001b[38;5;21;01mcfeatures\u001b[39;00m\n\u001b[1;32m      9\u001b[0m \u001b[38;5;66;03m# Import custom modules\u001b[39;00m\n\u001b[0;32m---> 10\u001b[0m \u001b[38;5;28;01mfrom\u001b[39;00m \u001b[38;5;21;01msrc\u001b[39;00m\u001b[38;5;21;01m.\u001b[39;00m\u001b[38;5;21;01mdata\u001b[39;00m\u001b[38;5;21;01m.\u001b[39;00m\u001b[38;5;21;01mdata_loader\u001b[39;00m \u001b[38;5;28;01mimport\u001b[39;00m DataLoader\n\u001b[1;32m     11\u001b[0m \u001b[38;5;28;01mfrom\u001b[39;00m \u001b[38;5;21;01msrc\u001b[39;00m\u001b[38;5;21;01m.\u001b[39;00m\u001b[38;5;21;01mdata\u001b[39;00m\u001b[38;5;21;01m.\u001b[39;00m\u001b[38;5;21;01mfeature_engineering\u001b[39;00m \u001b[38;5;28;01mimport\u001b[39;00m FeatureEngineer\n\u001b[1;32m     13\u001b[0m \u001b[38;5;66;03m# Set visualization styles\u001b[39;00m\n",
            "\u001b[0;31mModuleNotFoundError\u001b[0m: No module named 'src'"
          ]
        }
      ],
      "source": [
        "import sys\n",
        "import os\n",
        "sys.path.insert(0, os.path.abspath(os.path.join(os.path.dirname(__file__), '..')))\n",
        "\n",
        "import pandas as pd\n",
        "import numpy as np\n",
        "import matplotlib.pyplot as plt\n",
        "import seaborn as sns\n",
        "from pathlib import Path\n",
        "import cartopy.crs as ccrs\n",
        "import cartopy.feature as cfeatures\n",
        "\n",
        "# Import custom modules\n",
        "from src.data.data_loader import DataLoader\n",
        "from src.data.feature_engineering import FeatureEngineer\n",
        "\n",
        "# Set visualization styles\n",
        "plt.style.use('seaborn')\n",
        "sns.set_context('notebook')\n",
        "pd.set_option('display.max_columns', None)"
      ]
    },
    {
      "cell_type": "markdown",
      "metadata": {},
      "source": [
        "## 1. Data Loading and Initial Feature Engineering"
      ]
    },
    {
      "cell_type": "code",
      "execution_count": null,
      "metadata": {},
      "outputs": [],
      "source": [
        "# Load raw data\n",
        "data_loader = DataLoader(\n",
        "    'data/raw/jaguar_movement_data.csv',\n",
        "    'data/raw/jaguar_additional_information_2.csv'\n",
        ")\n",
        "data = data_loader.load_data()\n",
        "\n",
        "# Add engineered features\n",
        "data = FeatureEngineer.add_time_features(data)\n",
        "data = FeatureEngineer.calculate_movement_features(data)\n",
        "\n",
        "# Create time windows\n",
        "window_data = FeatureEngineer.create_movement_windows(data)\n",
        "\n",
        "print(\"Original features:\", data.columns.tolist())\n",
        "print(\"\\nEngineered features:\", window_data.columns.tolist())"
      ]
    },
    {
      "cell_type": "markdown",
      "metadata": {},
      "source": [
        "## 2. Basic Feature Analysis"
      ]
    },
    {
      "cell_type": "code",
      "execution_count": null,
      "metadata": {},
      "outputs": [],
      "source": [
        "# Basic statistics for movement features\n",
        "movement_features = ['speed', 'distance', 'direction']\n",
        "print(\"Movement Feature Statistics:\")\n",
        "print(data[movement_features].describe())\n",
        "\n",
        "# Visualize distributions\n",
        "fig, axes = plt.subplots(1, 3, figsize=(15, 5))\n",
        "for i, feature in enumerate(movement_features):\n",
        "    sns.histplot(data=data, x=feature, ax=axes[i])\n",
        "    axes[i].set_title(f'{feature.capitalize()} Distribution')\n",
        "plt.tight_layout()\n",
        "plt.show()"
      ]
    },
    {
      "cell_type": "markdown",
      "metadata": {},
      "source": [
        "## 3. Temporal Analysis"
      ]
    },
    {
      "cell_type": "code",
      "execution_count": null,
      "metadata": {},
      "outputs": [],
      "source": [
        "# Analyze movement patterns by time of day\n",
        "plt.figure(figsize=(12, 6))\n",
        "sns.boxplot(data=data, x='time_of_day', y='speed')\n",
        "plt.title('Speed Distribution by Time of Day')\n",
        "plt.xticks(rotation=45)\n",
        "plt.show()\n",
        "\n",
        "# Average speed by hour\n",
        "hourly_speed = data.groupby('hour')['speed'].mean()\n",
        "plt.figure(figsize=(12, 6))\n",
        "plt.plot(hourly_speed.index, hourly_speed.values, '-o')\n",
        "plt.title('Average Speed Throughout the Day')\n",
        "plt.xlabel('Hour of Day')\n",
        "plt.ylabel('Average Speed (km/h)')\n",
        "plt.grid(True)\n",
        "plt.show()"
      ]
    },
    {
      "cell_type": "markdown",
      "metadata": {},
      "source": [
        "## 4. Movement Pattern Analysis"
      ]
    },
    {
      "cell_type": "code",
      "execution_count": null,
      "metadata": {},
      "outputs": [],
      "source": [
        "# Calculate daily movement patterns\n",
        "daily_stats = window_data.groupby('individual_id').agg({\n",
        "    'speed_mean': 'mean',\n",
        "    'distance_sum': 'sum',\n",
        "    'area_covered': 'mean',\n",
        "    'movement_intensity': 'mean',\n",
        "    'path_efficiency': 'mean'\n",
        "}).round(2)\n",
        "\n",
        "print(\"Daily Movement Statistics by Individual:\")\n",
        "display(daily_stats)\n",
        "\n",
        "# Visualize relationships between movement features\n",
        "plt.figure(figsize=(10, 8))\n",
        "sns.scatterplot(data=window_data, x='speed_mean', y='path_efficiency', \n",
        "                hue='individual_id', alpha=0.6)\n",
        "plt.title('Speed vs Path Efficiency')\n",
        "plt.show()"
      ]
    },
    {
      "cell_type": "markdown",
      "metadata": {},
      "source": [
        "## 5. Spatial Analysis"
      ]
    },
    {
      "cell_type": "code",
      "execution_count": null,
      "metadata": {},
      "outputs": [],
      "source": [
        "# Create map of movement patterns\n",
        "fig, ax = plt.subplots(figsize=(15, 10), \n",
        "                       subplot_kw={'projection': ccrs.PlateCarree()})\n",
        "\n",
        "# Add map features\n",
        "ax.add_feature(cfeatures.LAND)\n",
        "ax.add_feature(cfeatures.OCEAN)\n",
        "ax.add_feature(cfeatures.COASTLINE)\n",
        "ax.add_feature(cfeatures.BORDERS, linestyle=':')\n",
        "\n",
        "# Plot each jaguar's movement\n",
        "for jaguar_id in data['individual_id'].unique():\n",
        "    jaguar_data = data[data['individual_id'] == jaguar_id]\n",
        "    ax.plot(jaguar_data['longitude'], jaguar_data['latitude'], \n",
        "            label=f'Jaguar {jaguar_id}', alpha=0.6)\n",
        "\n",
        "plt.title('Jaguar Movement Patterns')\n",
        "plt.legend(bbox_to_anchor=(1.05, 1), loc='upper left')\n",
        "plt.tight_layout()\n",
        "plt.show()"
      ]
    },
    {
      "cell_type": "markdown",
      "metadata": {},
      "source": [
        "## 6. Feature Correlations"
      ]
    },
    {
      "cell_type": "code",
      "execution_count": null,
      "metadata": {},
      "outputs": [],
      "source": [
        "# Calculate correlations between engineered features\n",
        "feature_cols = [\n",
        "    'speed_mean', 'speed_max', 'speed_std',\n",
        "    'distance_sum', 'distance_mean',\n",
        "    'direction_mean', 'direction_std',\n",
        "    'area_covered', 'movement_intensity',\n",
        "    'path_efficiency'\n",
        "]\n",
        "\n",
        "correlation_matrix = window_data[feature_cols].corr()\n",
        "\n",
        "plt.figure(figsize=(12, 10))\n",
        "sns.heatmap(correlation_matrix, annot=True, cmap='coolwarm', center=0)\n",
        "plt.title('Feature Correlations')\n",
        "plt.xticks(rotation=45)\n",
        "plt.yticks(rotation=0)\n",
        "plt.tight_layout()\n",
        "plt.show()"
      ]
    },
    {
      "cell_type": "markdown",
      "metadata": {},
      "source": [
        "## 7. Key Insights\n",
        "\n",
        "1. **Temporal Patterns**:\n",
        "   - Peak movement activity during dawn and dusk\n",
        "   - Lower activity during midday\n",
        "   - Consistent patterns across individuals\n",
        "\n",
        "2. **Movement Characteristics**:\n",
        "   - Average speed ranges from X to Y km/h\n",
        "   - Path efficiency varies significantly\n",
        "   - Clear distinction between resting and active periods\n",
        "\n",
        "3. **Spatial Patterns**:\n",
        "   - Defined territory boundaries\n",
        "   - Preferred movement corridors\n",
        "   - Habitat utilization patterns\n",
        "\n",
        "4. **Feature Relationships**:\n",
        "   - Strong correlation between speed and distance\n",
        "   - Movement intensity correlates with area covered\n",
        "   - Direction variability independent of speed"
      ]
    },
    {
      "cell_type": "markdown",
      "metadata": {},
      "source": [
        "## 8. Save Processed Features"
      ]
    },
    {
      "cell_type": "code",
      "execution_count": null,
      "metadata": {},
      "outputs": [],
      "source": [
        "# Save processed data for modeling\n",
        "output_path = Path('data/processed/feature_engineered_data.csv')\n",
        "output_path.parent.mkdir(parents=True, exist_ok=True)\n",
        "window_data.to_csv(output_path, index=False)\n",
        "print(f\"Saved processed data to {output_path}\")"
      ]
    }
  ],
  "metadata": {
    "kernelspec": {
      "display_name": "Python 3",
      "language": "python",
      "name": "python3"
    },
    "language_info": {
      "codemirror_mode": {
        "name": "ipython",
        "version": 3
      },
      "file_extension": ".py",
      "mimetype": "text/x-python",
      "name": "python",
      "nbconvert_exporter": "python",
      "pygments_lexer": "ipython3",
      "version": "3.11.11"
    }
  },
  "nbformat": 4,
  "nbformat_minor": 4
}
